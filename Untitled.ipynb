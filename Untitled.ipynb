{
 "cells": [
  {
   "cell_type": "code",
   "execution_count": null,
   "metadata": {},
   "outputs": [],
   "source": [
    "import time\n",
    "import random\n",
    "import hashlib\n",
    "import calendar\n",
    "from Crypto.Hash import SHA256\n",
    "from threading import Thread"
   ]
  },
  {
   "cell_type": "code",
   "execution_count": null,
   "metadata": {},
   "outputs": [],
   "source": [
    "#globals\n",
    "Difficulty = \"000\"\n",
    "BlockLength = 10 #Time between block data \n",
    "BlockTime = 10 #Time between blocks\n",
    "timeChainGood = []#Time\n",
    "timeChainEvil = []#Time\n",
    "parentHashGood = 00000000000000000000000000000000\n",
    "parentHashEvil = 00000000000000000000000000000000"
   ]
  },
  {
   "cell_type": "code",
   "execution_count": null,
   "metadata": {},
   "outputs": [],
   "source": [
    "#Do the blockchain\n",
    "def AutoAdjustDifficulty(self,timeToGeneration = 30): #In seconds\n",
    "    global Difficulty\n",
    "    hexArr = [\"0\",\"1\",\"2\",\"3\",\"4\",\"5\",\"6\",\"7\",\"8\",\"9\",\"a\",\"b\",\"c\",\"d\",\"e\",\"f\"]\n",
    "    try:\n",
    "        avgGenerationTime = (((timeChainGood[-1] - timeChainGood[-5])/5)+(timeChainEvil[-1]-timeChainEvil[-5])/5)/2\n",
    "        if(avgGenerationTime > (timeToGeneration+30)):\n",
    "            Difficulty += \"0\"\n",
    "        elif(avgGenerationTime < (timeToGeneration-30)):\n",
    "             Difficulty = Difficulty[:-1]\n",
    "\n",
    "    except:\n",
    "        return\n",
    "        \n",
    "def hashCriteria(hash):\n",
    "    hash = hash[:len(Difficulty)]\n",
    "    if(hash == Difficulty):\n",
    "        return True\n",
    "    return False\n",
    "\n",
    "def MakeBlock(parentHash, data): \n",
    "    nonce = int(getRandData())\n",
    "    block = [parentHash, data, nonce]\n",
    "    hash = hashlib.sha256(';'.join(map(str,block)).encode('utf-8')).hexdigest()\n",
    "    while(not hashCriteria(hash)):\n",
    "        nonce += 1\n",
    "        block = [parentHash, data, nonce]\n",
    "        hash = hashlib.sha256(';'.join(map(str,block)).encode('utf-8')).hexdigest()\n",
    "        if(nonce%100000 == 0): print(nonce)\n",
    "    epoch = int(calendar.timegm(time.gmtime())) #Time in seconds since epoch\n",
    "    return hash, epoch\n",
    "\n",
    "def startChain(numBlocks):\n",
    "    for i in range(numBlocks):\n",
    "        data = \"Starter Block\"\n",
    "        MakeBlock(data)\n",
    "        \n",
    "def getRandData():\n",
    "    #time.sleep(BlockLength)\n",
    "    return random.random()*10000000000 + random.random()*100000000"
   ]
  },
  {
   "cell_type": "code",
   "execution_count": null,
   "metadata": {},
   "outputs": [],
   "source": [
    "#Run the stuff\n",
    "def startThreadEvil():\n",
    "    global parentHashEvil, timeChainEvil\n",
    "    print(\"starting Evil\")\n",
    "    while(len(timeChainEvil) <= len(timeChainGood)+1):\n",
    "        data = getRandData()\n",
    "        parentHashEvil, tim = MakeBlock(parentHashEvil, data)\n",
    "        #print(\"Generated Hash:\", parentHashEvil)\n",
    "        timeChainEvil.append(tim)\n",
    "    print(timeChainEvil)\n",
    "\n",
    "def startThreadGood():\n",
    "    global parentHashGood, timeChainGood, timeChainEvil  \n",
    "    print()\n",
    "    while(len(timeChainEvil) <= len(timeChainGood)+1):\n",
    "        data = getRandData()\n",
    "        parentHash, tim = MakeBlock(parentHashGood, data)\n",
    "        timeChainGood.append(tim)\n",
    "    print(timeChainGood)\n",
    "    \n",
    "\n",
    "def eventLoop():    \n",
    "    #for i in range(10):\n",
    "    thread1 = Thread(target = startThreadGood)\n",
    "    thread2 = Thread(target = startThreadEvil)\n",
    "\n",
    "    thread1.start()\n",
    "    thread2.start()\n",
    "    thread1.join()\n",
    "    thread2.join()\n",
    "    print(\"thread finished...exiting\")\n",
    "\n",
    "eventLoop()\n"
   ]
  },
  {
   "cell_type": "code",
   "execution_count": null,
   "metadata": {},
   "outputs": [],
   "source": [
    "\n",
    "\n",
    "\n",
    "\n",
    "\n",
    "\n",
    "\n",
    "#Graphs\n",
    "%matplotlib inline\n",
    "from matplotlib import pyplot as plt\n",
    "import pandas as pd\n",
    "\n",
    "s = pd.Series([1,2,3], index=['a','b','c'])\n",
    "\n",
    "s.plot.bar(figsize=(20,10))\n",
    "plt.xlabel('Foo')\n",
    "plt.ylabel('Bar')\n",
    "plt.title(\"Hello World\");"
   ]
  },
  {
   "cell_type": "code",
   "execution_count": null,
   "metadata": {},
   "outputs": [],
   "source": []
  },
  {
   "cell_type": "code",
   "execution_count": null,
   "metadata": {},
   "outputs": [],
   "source": []
  }
 ],
 "metadata": {
  "kernelspec": {
   "display_name": "Python 3",
   "language": "python",
   "name": "python3"
  },
  "language_info": {
   "codemirror_mode": {
    "name": "ipython",
    "version": 3
   },
   "file_extension": ".py",
   "mimetype": "text/x-python",
   "name": "python",
   "nbconvert_exporter": "python",
   "pygments_lexer": "ipython3",
   "version": "3.7.4"
  }
 },
 "nbformat": 4,
 "nbformat_minor": 2
}
